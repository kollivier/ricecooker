{
 "cells": [
  {
   "cell_type": "markdown",
   "metadata": {},
   "source": [
    "# The `ricecooker` quick start\n",
    "\n",
    "This mini-tutorial will walk you through the steps of running a simple chef script `SimpleChef` that uses the `ricecooker` framework to upload a content channel to the Kolibri Studio server.\n",
    "\n",
    "We'll go over the same steps as described in the [usage](../usage.md), but this time showing the expected output of each step.\n",
    "\n",
    "\n",
    "### Running the notebooks\n",
    "To follow along and run the code in this notebook, you'll need to clone the `ricecooker` repository, crate a virtual environement, install `ricecooker` using `pip install ricecooker`, install Jypyter notebook using `pip install jupyter`, then start the jupyter notebook server by running `jupyter notebook`. You will then be able to run all the code sections in this notebook and poke around."
   ]
  },
  {
   "cell_type": "markdown",
   "metadata": {},
   "source": [
    "### Step 1: Obtain a Studio Authorization Token\n",
    "\n",
    "You will need a` Studio Authorization Token to create a channel on Kolibri Studio.\n",
    "In order to obtain such a token:\n",
    "1. Create an account on [Kolibri Studio](https://studio.learningequality.org/).\n",
    "2. Navigate to the Tokens tab under your Settings page.\n",
    "3. Copy the given authorization token to a safe place.\n",
    "\n",
    "You must pass the token on the command line as `--token=<your-auth-token>` when\n",
    "calling your chef script. Alternatively, you can create a file to store your token\n",
    "and pass in the command line argument `--token=\"path/to/file.txt\"`.\n"
   ]
  },
  {
   "cell_type": "markdown",
   "metadata": {},
   "source": [
    "### Step 2: Creating a Sushi Chef class\n",
    "\n",
    "We'll use following simple chef script as an the running example in this section.\n",
    "You can find the full source code of it [`examples/simple_chef.py`](https://github.com/learningequality/ricecooker/blob/master/examples/simple_chef.py).\n",
    "\n",
    "Mmmm, potato... potato give you power!"
   ]
  },
  {
   "cell_type": "code",
   "execution_count": 1,
   "metadata": {},
   "outputs": [],
   "source": [
    "#!/usr/bin/env python\n",
    "from ricecooker.chefs import SushiChef\n",
    "from ricecooker.classes.nodes import ChannelNode, TopicNode, DocumentNode\n",
    "from ricecooker.classes.files import DocumentFile\n",
    "from ricecooker.classes.licenses import get_license\n",
    "\n",
    "\n",
    "class SimpleChef(SushiChef):\n",
    "    channel_info = {\n",
    "        'CHANNEL_TITLE': 'Potatoes info channel',\n",
    "        'CHANNEL_SOURCE_DOMAIN': '<yourdomain.org>',     # where you got the content\n",
    "        'CHANNEL_SOURCE_ID': '<unique id for channel>',  # channel's unique id\n",
    "        'CHANNEL_LANGUAGE': 'en',                        # le_utils language code\n",
    "        'CHANNEL_THUMBNAIL': 'https://upload.wikimedia.org/wikipedia/commons/b/b7/A_Grande_Batata.jpg', # (optional)\n",
    "        'CHANNEL_DESCRIPTION': 'What is this channel about?',      # (optional)\n",
    "    }\n",
    "\n",
    "    def construct_channel(self, **kwargs):\n",
    "        channel = self.get_channel(**kwargs)\n",
    "        potato_topic = TopicNode(title=\"Potatoes!\", source_id=\"<potatos_id>\")\n",
    "        channel.add_child(potato_topic)\n",
    "        doc_node = DocumentNode(\n",
    "            title='Growing potatoes',\n",
    "            description='An article about growing potatoes on your rooftop.',\n",
    "            source_id='pubs/mafri-potatoe',\n",
    "            license=get_license('CC BY', copyright_holder='University of Alberta'),\n",
    "            language='en',\n",
    "            files=[DocumentFile(path='https://www.gov.mb.ca/inr/pdf/pubs/mafri-potatoe.pdf',\n",
    "                                language='en')],\n",
    "        )\n",
    "        potato_topic.add_child(doc_node)\n",
    "        return channel\n",
    "\n",
    "\n",
    "if __name__ == '__main__':\n",
    "    \"\"\"\n",
    "    Run this script on the command line using:\n",
    "        python simple_chef.py -v --reset --token=YOURTOKENHERE9139139f3a23232\n",
    "    \"\"\"\n",
    "    simple_chef = SimpleChef()\n",
    "    simple_chef.main()"
   ]
  },
  {
   "cell_type": "markdown",
   "metadata": {
    "collapsed": true
   },
   "source": [
    "**Note**: make sure you change the values of `CHANNEL_SOURCE_DOMAIN` and `CHANNEL_SOURCE_ID`\n",
    "before you try running this script. The combination of these two values is used\n",
    "to compute the `channel_id` for the Kolibri channel you're creating. If you keep\n",
    "the lines above unchanged, you'll get an error because the channel with source\n",
    "domain 'gov.mb.ca' and source id 'website_docs' already exists on Kolibri Studio."
   ]
  },
  {
   "cell_type": "markdown",
   "metadata": {},
   "source": [
    "Run of chef script by calling it on the command line:"
   ]
  },
  {
   "cell_type": "code",
   "execution_count": 9,
   "metadata": {},
   "outputs": [
    {
     "name": "stdout",
     "output_type": "stream",
     "text": [
      "Logged in with username you@yourdomain.org\n",
      "Ricecooker v0.6.31 is up-to-date.\n",
      "Running get_channel... \n",
      "run_id: 54fc213f7beb4a9292b6996af025bc75\n",
      "\n",
      "\n",
      "***** Starting channel build process *****\n",
      "\n",
      "\n",
      "Calling construct_channel... \n",
      "   Setting up initial channel structure... \n",
      "   Validating channel structure...\n",
      "      Potatoes info channel (ChannelNode): 2 descendants\n",
      "         Potatoes! (TopicNode): 1 descendant\n",
      "            Growing potatoes (DocumentNode): 1 file\n",
      "   Tree is valid\n",
      "\n",
      "Downloading files...\n",
      "Processing content...\n",
      "\t--- Downloaded 3641693a88b37e8d0484c340a83f9364.pdf\n",
      "\t--- Downloaded 290c80ed7ce4cf117772f29dda76413c.jpg\n",
      "   All files were successfully downloaded\n",
      "Getting file diff...\n",
      "\n",
      "Checking if files exist on Kolibri Studio...\n",
      "\tGot file diff for 2 out of 2 files\n",
      "Uploading files...\n",
      "\n",
      "Uploading 0 new file(s) to Kolibri Studio...\n",
      "Creating channel...\n",
      "\n",
      "Creating tree on Kolibri Studio...\n",
      "   Creating channel Potatoes info channel\n",
      "\tPreparing fields...\n",
      "(0 of 2 uploaded)    Processing Potatoes info channel (ChannelNode)\n",
      "(1 of 2 uploaded)       Processing Potatoes! (TopicNode)\n",
      "   All nodes were created successfully.\n",
      "Upload time: 11.248386s\n",
      "\n",
      "\n",
      "DONE: Channel created at https://api.studio.learningequality.org/channels/47147660ecb850bfb71590bf7d1ca971/edit\n",
      "\n"
     ]
    }
   ],
   "source": [
    "!cd ../../examples; python simple_chef.py -v --reset --token=$STUDIO_TOKEN"
   ]
  },
  {
   "cell_type": "markdown",
   "metadata": {},
   "source": [
    "### It worked!\n",
    "Congratulations, you put the potatoes on the internet! You're probably already a legend in Ireland!"
   ]
  },
  {
   "cell_type": "code",
   "execution_count": null,
   "metadata": {},
   "outputs": [],
   "source": []
  },
  {
   "cell_type": "markdown",
   "metadata": {},
   "source": [
    "### Creating more nodes\n",
    "\n",
    "Now that you have a working example of a simple chef you can extend it by adding more content types.\n",
    "  - Complete the ricecooker hands-on tutorial: https://gist.github.com/jayoshih/6678546d2a2fa3e7f04fc9090d81aff6\n",
    "  - [usage docs](https://github.com/learningequality/ricecooker/blob/master/docs/usage.md)\n",
    "    for more explanations about the above code.\n",
    "  - See \n",
    "    to learn how to create different content node types.\n",
    "  - See [files](https://github.com/learningequality/ricecooker/blob/master/docs/files.md)\n",
    "    to learn about the file types supported, and how to create them."
   ]
  },
  {
   "cell_type": "code",
   "execution_count": null,
   "metadata": {},
   "outputs": [],
   "source": []
  }
 ],
 "metadata": {
  "kernelspec": {
   "display_name": "Python 3",
   "language": "python",
   "name": "python3"
  },
  "language_info": {
   "codemirror_mode": {
    "name": "ipython",
    "version": 3
   },
   "file_extension": ".py",
   "mimetype": "text/x-python",
   "name": "python",
   "nbconvert_exporter": "python",
   "pygments_lexer": "ipython3",
   "version": "3.7.3"
  }
 },
 "nbformat": 4,
 "nbformat_minor": 2
}
